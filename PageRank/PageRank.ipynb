{
 "cells": [
  {
   "cell_type": "code",
   "execution_count": 29,
   "metadata": {},
   "outputs": [],
   "source": [
    "import numpy as np\n",
    "import pandas as pd"
   ]
  },
  {
   "cell_type": "markdown",
   "metadata": {},
   "source": [
    "# Importando e formatando os dados"
   ]
  },
  {
   "cell_type": "code",
   "execution_count": 30,
   "metadata": {},
   "outputs": [],
   "source": [
    "SOURCE, TARGET, RATING, TIME = 'SOURCE', 'TARGET', 'RATING', 'TIME'\n",
    "df = pd.read_csv('soc-sign-bitcoinotc.csv', names=[SOURCE,TARGET,RATING,TIME])"
   ]
  },
  {
   "cell_type": "code",
   "execution_count": 31,
   "metadata": {},
   "outputs": [],
   "source": [
    "'''\n",
    "Filtrando apenas os investidores que possuem nota maior ou igual a 8, e normalizando as notas para a escala 0-1, e desconsiderando a coluna TIME\n",
    "'''\n",
    "df = df.loc[(df[RATING] >= 8)]\n",
    "df = df[[SOURCE, TARGET, RATING]]\n",
    "df[RATING] = df[RATING].apply(lambda rate: rate/10.0)"
   ]
  },
  {
   "cell_type": "markdown",
   "metadata": {},
   "source": [
    "# Matriz de adjacência"
   ]
  },
  {
   "cell_type": "code",
   "execution_count": 32,
   "metadata": {},
   "outputs": [],
   "source": [
    "'''\n",
    "Para quantos nós um nó aponta\n",
    "'''\n",
    "n_pointing_to = dict()\n",
    "for source, group_itens in df.groupby([SOURCE]):\n",
    "    n_pointing_to[source] = len(group_itens)"
   ]
  },
  {
   "cell_type": "code",
   "execution_count": 33,
   "metadata": {},
   "outputs": [],
   "source": [
    "'''\n",
    "Lista ordenada com todos os nós\n",
    "'''\n",
    "nodes = sorted(list(set(df.SOURCE.append(df.TARGET))))"
   ]
  },
  {
   "cell_type": "code",
   "execution_count": 34,
   "metadata": {},
   "outputs": [],
   "source": [
    "'''\n",
    "Matriz de adjacência\n",
    "'''\n",
    "adjacency_matrix = pd.DataFrame(columns=nodes)\n",
    "\n",
    "for source in nodes:\n",
    "    filtered_by_source = df.loc[(df.SOURCE == source)]\n",
    "    target_list, rating_list = filtered_by_source.TARGET, filtered_by_source.RATING\n",
    "    \n",
    "    adjacency_matrix_source_row = [0] * len(nodes)\n",
    "    for t, r in zip(target_list, rating_list):\n",
    "        target_index = nodes.index(t)\n",
    "        adjacency_matrix_source_row[target_index] = r / n_pointing_to[source]\n",
    "    \n",
    "    adjacency_matrix.loc[source] = adjacency_matrix_source_row\n",
    "\n",
    "adjacency_matrix = adjacency_matrix.transpose()"
   ]
  },
  {
   "cell_type": "markdown",
   "metadata": {},
   "source": [
    "# Page Rank"
   ]
  },
  {
   "cell_type": "code",
   "execution_count": 35,
   "metadata": {},
   "outputs": [],
   "source": [
    "a = adjacency_matrix.values\n",
    "\n",
    "b = (float(1)/float(len(nodes))) * np.matrix([[1] * len(nodes) for i in range(len(nodes))])\n",
    "\n",
    "m = (0.85 * a) + (0.15 * b)\n",
    "\n",
    "v = (float(1)/float(len(nodes))) * np.matrix([[1] for i in range(len(nodes))])"
   ]
  },
  {
   "cell_type": "code",
   "execution_count": 36,
   "metadata": {},
   "outputs": [],
   "source": [
    "'''\n",
    "Algoritmo Page Rank do vídeo\n",
    "'''\n",
    "def pagerank(v):\n",
    "    global count\n",
    "    if sum(abs(m*v-v)) > 0.001:\n",
    "        count += 1\n",
    "        return pagerank(m*v)\n",
    "    else:\n",
    "        count += 1\n",
    "        return m*v"
   ]
  },
  {
   "cell_type": "code",
   "execution_count": 37,
   "metadata": {},
   "outputs": [],
   "source": [
    "count = 0\n",
    "result = pagerank(v)\n",
    "\n",
    "nodes_ids = adjacency_matrix.index.tolist()\n",
    "pages_rank = list(map(lambda page_rank: page_rank[0], result.tolist()))"
   ]
  },
  {
   "cell_type": "markdown",
   "metadata": {},
   "source": [
    "## Perguntas"
   ]
  },
  {
   "cell_type": "markdown",
   "metadata": {},
   "source": [
    "#### Quantas iterações o PageRank precisou rodar até atingir convergência?"
   ]
  },
  {
   "cell_type": "code",
   "execution_count": 48,
   "metadata": {},
   "outputs": [
    {
     "name": "stdout",
     "output_type": "stream",
     "text": [
      "29\n"
     ]
    }
   ],
   "source": [
    "print(count)"
   ]
  },
  {
   "cell_type": "markdown",
   "metadata": {},
   "source": [
    "#### Quais os 5 investidores mais importantes segundo o PageRank? Quais seus valores de PageRank?"
   ]
  },
  {
   "cell_type": "code",
   "execution_count": 49,
   "metadata": {},
   "outputs": [
    {
     "name": "stdout",
     "output_type": "stream",
     "text": [
      "Investidor - Page Rank\n",
      " 3996      - 0.0001086\n",
      "  361      - 0.0001023\n",
      "    1      - 0.0000824\n",
      "  623      - 0.0000602\n",
      "   25      - 0.0000539\n"
     ]
    }
   ],
   "source": [
    "print('Investidor - Page Rank')\n",
    "for page_rank, node_id in sorted(zip(pages_rank, nodes_ids), reverse=True)[:5]:\n",
    "    print('{:>5}      - {:.7f}'.format(node_id,page_rank))"
   ]
  },
  {
   "cell_type": "markdown",
   "metadata": {},
   "source": [
    "#### Como você poderia usar o PageRank caso você fosse um investidor em bitcoins?\n",
    "Usaria como forma de selecionar os melhores investidores para uma transação, a fim de obter mais lucro e confiança."
   ]
  },
  {
   "cell_type": "markdown",
   "metadata": {},
   "source": [
    "## Exportando os dados para gerar visualizações no Gephi"
   ]
  },
  {
   "cell_type": "code",
   "execution_count": 59,
   "metadata": {},
   "outputs": [],
   "source": [
    "node_id_list = adjacency_matrix.index.tolist()"
   ]
  },
  {
   "cell_type": "code",
   "execution_count": 60,
   "metadata": {},
   "outputs": [],
   "source": [
    "PR_INDEX = 0\n",
    "page_rank_list = list(map(lambda list_with_pr: list_with_pr[PR_INDEX], result.tolist()))"
   ]
  },
  {
   "cell_type": "code",
   "execution_count": 61,
   "metadata": {},
   "outputs": [],
   "source": [
    "nodes_dict = {'Id': node_id_list, 'Modularity Class': page_rank_list}"
   ]
  },
  {
   "cell_type": "code",
   "execution_count": 62,
   "metadata": {},
   "outputs": [],
   "source": [
    "nodes_dataframe = pd.DataFrame.from_dict(nodes_dict)"
   ]
  },
  {
   "cell_type": "code",
   "execution_count": 64,
   "metadata": {},
   "outputs": [],
   "source": [
    "nodes_dataframe.to_csv('nodes.csv', index=False)\n",
    "df.to_csv('edges.csv',  index=False)"
   ]
  }
 ],
 "metadata": {
  "kernelspec": {
   "display_name": "Python 3",
   "language": "python",
   "name": "python3"
  },
  "language_info": {
   "codemirror_mode": {
    "name": "ipython",
    "version": 3
   },
   "file_extension": ".py",
   "mimetype": "text/x-python",
   "name": "python",
   "nbconvert_exporter": "python",
   "pygments_lexer": "ipython3",
   "version": "3.6.4"
  }
 },
 "nbformat": 4,
 "nbformat_minor": 2
}
