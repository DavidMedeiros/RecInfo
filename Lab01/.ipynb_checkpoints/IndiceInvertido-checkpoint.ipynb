{
 "cells": [
  {
   "cell_type": "code",
   "execution_count": 1,
   "metadata": {
    "collapsed": true
   },
   "outputs": [],
   "source": [
    "import pandas as pd\n",
    "import nltk"
   ]
  },
  {
   "cell_type": "code",
   "execution_count": 2,
   "metadata": {
    "collapsed": true
   },
   "outputs": [],
   "source": [
    "#Lê e separa as palavras de um texto de determidada notícia, para adicionar ou atualizar o índice 'palavra' do dicionário\n",
    "def cataloga_palavras(dicionario, texto, idNoticia):\n",
    "    palavras = nltk.word_tokenize(texto)\n",
    "    \n",
    "    for palavra in palavras:\n",
    "        palavra = palavra.lower()   #o algoritmo não é case-sensitive\n",
    "        if palavra in dicionario:\n",
    "            if idNoticia in dicionario[palavra]:\n",
    "                dicionario[palavra][idNoticia] += 1\n",
    "            else:\n",
    "                dicionario[palavra][idNoticia] = 1\n",
    "        else:\n",
    "            dicionario[palavra] = {}\n",
    "            dicionario[palavra][idNoticia] = 1"
   ]
  },
  {
   "cell_type": "code",
   "execution_count": 3,
   "metadata": {
    "collapsed": true
   },
   "outputs": [],
   "source": [
    "#Retorna os ids de notícias que possuem aquela palavra\n",
    "def indice_invertido(palavra):\n",
    "    return dicionario[palavra]"
   ]
  },
  {
   "cell_type": "code",
   "execution_count": 4,
   "metadata": {},
   "outputs": [],
   "source": [
    "#Faz a busca de um ou dois termos, com os operadores booleanos AND e OR\n",
    "def search(termos):\n",
    "    termos = termos.split()\n",
    "    if len(termos) == 1:   #Caso haja apenas um termo na busca\n",
    "        return indice_invertido(termos[0].lower())\n",
    "    indice1 = indice_invertido(termos[0].lower())\n",
    "    indice2 = indice_invertido(termos[2].lower())\n",
    "    if termos[1] == \"OR\":\n",
    "        return set(indice1 + indice2)   #OR consiste na junção dos resultados, desconsiderando as repetições\n",
    "    else:\n",
    "        retorno = []\n",
    "        for i in indice1:\n",
    "            for j in indice2:\n",
    "                if i == j:      #AND deve retornar apenas as notícias em que os dois termos estão presentes\n",
    "                    retorno.append(j)\n",
    "        return set(retorno)"
   ]
  },
  {
   "cell_type": "code",
   "execution_count": 5,
   "metadata": {},
   "outputs": [],
   "source": [
    "tabela = pd.read_csv('estadao_noticias_eleicao.csv')\n",
    "tabela.set_index(\"idNoticia\", inplace=True)\n",
    "\n",
    "dicionario = {}\n",
    "\n",
    "#Cataloga as palavras de todas as notícias da tabela\n",
    "for index, row in tabela.iterrows():\n",
    "    \n",
    "    #Tratamento de valores NaN na tabela\n",
    "    titulo = '' if str(row['titulo']) == 'nan' else str(row['titulo'])\n",
    "    subTitulo = '' if str(row['subTitulo']) == 'nan' else str(row['subTitulo'])\n",
    "    conteudo = '' if str(row['conteudo']) == 'nan' else str(row['conteudo'])\n",
    "    \n",
    "    texto = str(titulo + \" \" + subTitulo + \" \" + conteudo)\n",
    "    cataloga_palavras(dicionario, texto, index)"
   ]
  },
  {
   "cell_type": "code",
   "execution_count": 9,
   "metadata": {},
   "outputs": [
    {
     "name": "stdout",
     "output_type": "stream",
     "text": [
      "2\n"
     ]
    }
   ],
   "source": [
    "print(dicionario['objetivo'][1])"
   ]
  },
  {
   "cell_type": "code",
   "execution_count": null,
   "metadata": {
    "collapsed": true
   },
   "outputs": [],
   "source": []
  },
  {
   "cell_type": "code",
   "execution_count": null,
   "metadata": {},
   "outputs": [],
   "source": []
  },
  {
   "cell_type": "code",
   "execution_count": null,
   "metadata": {
    "collapsed": true
   },
   "outputs": [],
   "source": []
  }
 ],
 "metadata": {
  "kernelspec": {
   "display_name": "Python 3",
   "language": "python",
   "name": "python3"
  },
  "language_info": {
   "codemirror_mode": {
    "name": "ipython",
    "version": 3
   },
   "file_extension": ".py",
   "mimetype": "text/x-python",
   "name": "python",
   "nbconvert_exporter": "python",
   "pygments_lexer": "ipython3",
   "version": "3.6.2"
  }
 },
 "nbformat": 4,
 "nbformat_minor": 2
}
