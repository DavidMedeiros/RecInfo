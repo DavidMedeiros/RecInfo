{
 "cells": [
  {
   "cell_type": "code",
   "execution_count": 1,
   "metadata": {
    "collapsed": true
   },
   "outputs": [],
   "source": [
    "import pandas as pd\n",
    "import nltk\n",
    "import numpy as np"
   ]
  },
  {
   "cell_type": "code",
   "execution_count": 2,
   "metadata": {
    "collapsed": true
   },
   "outputs": [],
   "source": [
    "noticias = pd.read_csv('estadao_noticias_eleicao.csv')\n",
    "noticias.set_index(\"idNoticia\", inplace=True)\n",
    "\n",
    "gabarito = pd.read_csv('gabarito.csv')"
   ]
  },
  {
   "cell_type": "code",
   "execution_count": 3,
   "metadata": {
    "collapsed": true
   },
   "outputs": [],
   "source": [
    "#Lê e separa as palavras de um texto de determidada notícia, para adicionar ou atualizar o índice 'palavra' do dicionário\n",
    "def cataloga_palavras(dicionario, texto, idNoticia):\n",
    "    palavras = nltk.word_tokenize(texto)\n",
    "    \n",
    "    for palavra in palavras:\n",
    "        palavra = palavra.lower()   #o algoritmo não é case-sensitive\n",
    "        if palavra in dicionario:\n",
    "            if idNoticia in dicionario[palavra]:\n",
    "                dicionario[palavra][idNoticia] += 1\n",
    "            else:\n",
    "                dicionario[palavra][idNoticia] = 1\n",
    "        else:\n",
    "            dicionario[palavra] = {}\n",
    "            dicionario[palavra][idNoticia] = 1"
   ]
  },
  {
   "cell_type": "code",
   "execution_count": 4,
   "metadata": {
    "collapsed": true
   },
   "outputs": [],
   "source": [
    "#Retorna os ids de notícias que possuem aquela palavra\n",
    "def indice_invertido(palavra):\n",
    "    return dicionario[palavra]"
   ]
  },
  {
   "cell_type": "code",
   "execution_count": 18,
   "metadata": {
    "collapsed": true
   },
   "outputs": [],
   "source": [
    "def calcula_idf(palavra):\n",
    "    m = noticias.shape[0]\n",
    "    k = len(indice_invertido(palavra))\n",
    "    return np.log((m + 1)/k) "
   ]
  },
  {
   "cell_type": "code",
   "execution_count": 44,
   "metadata": {
    "collapsed": true
   },
   "outputs": [],
   "source": [
    "def apk(actual, predicted, k):\n",
    "    \"\"\"\n",
    "    Computes the average precision at k.\n",
    "    This function computes the average prescision at k between two lists of\n",
    "    items.\n",
    "    Parameters\n",
    "    ----------\n",
    "    actual : list\n",
    "             A list of elements that are to be predicted (order doesn't matter)\n",
    "    predicted : list\n",
    "                A list of predicted elements (order does matter)\n",
    "    k : int, optional\n",
    "        The maximum number of predicted elements\n",
    "    Returns\n",
    "    -------\n",
    "    score : double\n",
    "            The average precision at k over the input lists\n",
    "    \"\"\"\n",
    "    if len(predicted)>k:\n",
    "        predicted = predicted[:k]\n",
    "\n",
    "    score = 0.0\n",
    "    num_hits = 0.0\n",
    "\n",
    "    for i,p in enumerate(predicted):\n",
    "        if p in actual and p not in predicted[:i]:\n",
    "            num_hits += 1.0\n",
    "            score += num_hits / (i+1.0)\n",
    "\n",
    "    if not actual:\n",
    "        return 0.0\n",
    "\n",
    "    return score / min(len(actual), k)\n",
    "\n",
    "def mapk(actual, predicted, k):\n",
    "    \"\"\"\n",
    "    Computes the mean average precision at k.\n",
    "    This function computes the mean average prescision at k between two lists\n",
    "    of lists of items.\n",
    "    Parameters\n",
    "    ----------\n",
    "    actual : list\n",
    "             A list of lists of elements that are to be predicted \n",
    "             (order doesn't matter in the lists)\n",
    "    predicted : list\n",
    "                A list of lists of predicted elements\n",
    "                (order matters in the lists)\n",
    "    k : int, optional\n",
    "        The maximum number of predicted elements\n",
    "    Returns\n",
    "    -------\n",
    "    score : double\n",
    "            The mean average precision at k over the input lists\n",
    "    \"\"\"\n",
    "    return np.mean([apk(a,p,k) for a,p in zip(actual, predicted)])"
   ]
  },
  {
   "cell_type": "code",
   "execution_count": 14,
   "metadata": {},
   "outputs": [],
   "source": [
    "dicionario = {}\n",
    "\n",
    "#Cataloga as palavras de todas as notícias da tabela\n",
    "for index, row in noticias.iterrows():\n",
    "    \n",
    "    #Tratamento de valores NaN na tabela\n",
    "    titulo = '' if str(row['titulo']) == 'nan' else str(row['titulo'])\n",
    "    subTitulo = '' if str(row['subTitulo']) == 'nan' else str(row['subTitulo'])\n",
    "    conteudo = '' if str(row['conteudo']) == 'nan' else str(row['conteudo'])\n",
    "    \n",
    "    texto = titulo + \" \" + subTitulo + \" \" + conteudo\n",
    "    \n",
    "    cataloga_palavras(dicionario, texto, index)"
   ]
  },
  {
   "cell_type": "code",
   "execution_count": 24,
   "metadata": {
    "collapsed": true
   },
   "outputs": [],
   "source": [
    "#Faz a busca de um ou dois termos, com os operadores booleanos AND e OR\n",
    "def search(termos):\n",
    "    termos = termos.split()\n",
    "    if len(termos) == 1:   #Caso haja apenas um termo na busca\n",
    "        return indice_invertido(termos[0].lower())\n",
    "    indice1 = indice_invertido(termos[0].lower())\n",
    "    indice2 = indice_invertido(termos[2].lower())\n",
    "    if termos[1] == \"OR\":\n",
    "        return set(indice1 + indice2)   #OR consiste na junção dos resultados, desconsiderando as repetições\n",
    "    else:\n",
    "        retorno = []\n",
    "        for i in indice1:\n",
    "            for j in indice2:\n",
    "                if i == j:      #AND deve retornar apenas as notícias em que os dois termos estão presentes\n",
    "                    retorno.append(j)\n",
    "        return set(retorno)"
   ]
  },
  {
   "cell_type": "code",
   "execution_count": 40,
   "metadata": {},
   "outputs": [],
   "source": [
    "def binaria(consulta):\n",
    "    termos = consulta.split()\n",
    "    \n",
    "    indice1 = indice_invertido(termos[0].lower())\n",
    "    indice2 = indice_invertido(termos[1].lower())\n",
    "   \n",
    "    retorno = []\n",
    "    for i in indice1:\n",
    "        for j in indice2:\n",
    "            if i == j:      #AND deve retornar apenas as notícias em que todos os termos estão presentes\n",
    "                retorno.append(j)\n",
    "    return set(retorno)"
   ]
  },
  {
   "cell_type": "code",
   "execution_count": 49,
   "metadata": {},
   "outputs": [
    {
     "name": "stdout",
     "output_type": "stream",
     "text": [
      "[3, 13, 15, 27, 6177]\n"
     ]
    }
   ],
   "source": [
    "busca_binaria = list(binaria('lava jato'))[0:5]\n",
    "print(busca_binaria)"
   ]
  },
  {
   "cell_type": "code",
   "execution_count": 48,
   "metadata": {},
   "outputs": [
    {
     "ename": "NameError",
     "evalue": "name 'suaresposta' is not defined",
     "output_type": "error",
     "traceback": [
      "\u001b[0;31m---------------------------------------------------------------------------\u001b[0m",
      "\u001b[0;31mNameError\u001b[0m                                 Traceback (most recent call last)",
      "\u001b[0;32m<ipython-input-48-33e4cdeab4da>\u001b[0m in \u001b[0;36m<module>\u001b[0;34m()\u001b[0m\n\u001b[0;32m----> 1\u001b[0;31m \u001b[0mmapk\u001b[0m\u001b[0;34m(\u001b[0m\u001b[0mgabarito\u001b[0m\u001b[0;34m.\u001b[0m\u001b[0mbusca_binaria\u001b[0m\u001b[0;34m,\u001b[0m \u001b[0msuaresposta\u001b[0m\u001b[0;34m.\u001b[0m\u001b[0mbusca_binaria\u001b[0m\u001b[0;34m,\u001b[0m \u001b[0mk\u001b[0m\u001b[0;34m=\u001b[0m\u001b[0;36m5\u001b[0m\u001b[0;34m)\u001b[0m\u001b[0;34m\u001b[0m\u001b[0m\n\u001b[0m\u001b[1;32m      2\u001b[0m \u001b[0;34m\u001b[0m\u001b[0m\n\u001b[1;32m      3\u001b[0m \u001b[0mmapk\u001b[0m\u001b[0;34m(\u001b[0m\u001b[0mgabarito\u001b[0m\u001b[0;34m.\u001b[0m\u001b[0mtf\u001b[0m\u001b[0;34m,\u001b[0m \u001b[0msuaresposta\u001b[0m\u001b[0;34m.\u001b[0m\u001b[0mtf\u001b[0m\u001b[0;34m,\u001b[0m \u001b[0mk\u001b[0m\u001b[0;34m=\u001b[0m\u001b[0;36m5\u001b[0m\u001b[0;34m)\u001b[0m\u001b[0;34m\u001b[0m\u001b[0m\n\u001b[1;32m      4\u001b[0m \u001b[0;34m\u001b[0m\u001b[0m\n\u001b[1;32m      5\u001b[0m \u001b[0mmapk\u001b[0m\u001b[0;34m(\u001b[0m\u001b[0mgabarito\u001b[0m\u001b[0;34m.\u001b[0m\u001b[0mtfidf\u001b[0m\u001b[0;34m,\u001b[0m \u001b[0msuaresposta\u001b[0m\u001b[0;34m.\u001b[0m\u001b[0mtfidf\u001b[0m\u001b[0;34m,\u001b[0m \u001b[0mk\u001b[0m\u001b[0;34m=\u001b[0m\u001b[0;36m5\u001b[0m\u001b[0;34m)\u001b[0m\u001b[0;34m\u001b[0m\u001b[0m\n",
      "\u001b[0;31mNameError\u001b[0m: name 'suaresposta' is not defined"
     ]
    }
   ],
   "source": [
    "mapk(gabarito.busca_binaria, suaresposta.busca_binaria, k=5)\n",
    "\n",
    "mapk(gabarito.tf, suaresposta.tf, k=5)\n",
    "\n",
    "mapk(gabarito.tfidf, suaresposta.tfidf, k=5)\n",
    "\n",
    "mapk(gabarito.bm25, suaresposta.bm25, k=5)\n",
    "\n",
    "\n",
    "\n",
    "mapk(gabarito.google, suaresposta.busca_binaria, k=5)\n",
    "\n",
    "mapk(gabarito.google, suaresposta.tf, k=5)\n",
    "\n",
    "mapk(gabarito.google, suaresposta.tfidf, k=5)\n",
    "\n",
    "mapk(gabarito.google, suaresposta.bm25, k=5)"
   ]
  },
  {
   "cell_type": "code",
   "execution_count": null,
   "metadata": {
    "collapsed": true
   },
   "outputs": [],
   "source": []
  }
 ],
 "metadata": {
  "kernelspec": {
   "display_name": "Python 3",
   "language": "python",
   "name": "python3"
  },
  "language_info": {
   "codemirror_mode": {
    "name": "ipython",
    "version": 3
   },
   "file_extension": ".py",
   "mimetype": "text/x-python",
   "name": "python",
   "nbconvert_exporter": "python",
   "pygments_lexer": "ipython3",
   "version": "3.6.2"
  }
 },
 "nbformat": 4,
 "nbformat_minor": 2
}
