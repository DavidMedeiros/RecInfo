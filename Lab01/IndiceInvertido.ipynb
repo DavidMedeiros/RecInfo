{
 "cells": [
  {
   "cell_type": "code",
   "execution_count": 43,
   "metadata": {},
   "outputs": [],
   "source": [
    "import pandas as pd\n",
    "import nltk\n",
    "import numpy as np\n",
    "from queue import *"
   ]
  },
  {
   "cell_type": "code",
   "execution_count": 2,
   "metadata": {},
   "outputs": [],
   "source": [
    "noticias = pd.read_csv('estadao_noticias_eleicao.csv')\n",
    "noticias.set_index(\"idNoticia\", inplace=True)\n",
    "\n",
    "gabarito = pd.read_csv('gabarito.csv')"
   ]
  },
  {
   "cell_type": "code",
   "execution_count": 3,
   "metadata": {},
   "outputs": [],
   "source": [
    "#Lê e separa as palavras de um texto de determinada notícia, para adicionar ou atualizar o índice 'palavra' do dicionário\n",
    "def cataloga_palavras(dicionario, texto, idNoticia):\n",
    "    palavras = nltk.word_tokenize(texto)\n",
    "    \n",
    "    for palavra in palavras:\n",
    "        palavra = palavra.lower()   #o algoritmo não é case-sensitive\n",
    "        if palavra in dicionario:\n",
    "            if idNoticia in dicionario[palavra]:\n",
    "                dicionario[palavra][idNoticia] += 1\n",
    "            else:\n",
    "                dicionario[palavra][idNoticia] = 1\n",
    "        else:\n",
    "            dicionario[palavra] = {}\n",
    "            dicionario[palavra][idNoticia] = 1"
   ]
  },
  {
   "cell_type": "code",
   "execution_count": 4,
   "metadata": {},
   "outputs": [],
   "source": [
    "#Retorna os ids de notícias que possuem aquela palavra\n",
    "def indice_invertido(palavra):\n",
    "    return dicionario[palavra]"
   ]
  },
  {
   "cell_type": "code",
   "execution_count": 7,
   "metadata": {},
   "outputs": [],
   "source": [
    "dicionario = {}\n",
    "\n",
    "#Cataloga as palavras de todas as notícias da tabela\n",
    "for index, row in noticias.iterrows():\n",
    "    \n",
    "    #Tratamento de valores NaN na tabela\n",
    "    titulo = '' if str(row['titulo']) == 'nan' else str(row['titulo'])\n",
    "    subTitulo = '' if str(row['subTitulo']) == 'nan' else str(row['subTitulo'])\n",
    "    conteudo = '' if str(row['conteudo']) == 'nan' else str(row['conteudo'])\n",
    "    \n",
    "    texto = titulo + \" \" + subTitulo + \" \" + conteudo\n",
    "    \n",
    "    cataloga_palavras(dicionario, texto, index)"
   ]
  },
  {
   "cell_type": "code",
   "execution_count": 117,
   "metadata": {},
   "outputs": [],
   "source": [
    "#Calcula IDF para um indice invertido\n",
    "def calcula_idf(indice):\n",
    "    m = noticias.shape[0]\n",
    "    k = len(indice)\n",
    "    return np.log((m + 1)/k) "
   ]
  },
  {
   "cell_type": "code",
   "execution_count": 57,
   "metadata": {},
   "outputs": [],
   "source": [
    "#Busca binaria, retorna os 5 documentos mais relevantes em que os termos da consulta estão presentes.\n",
    "def binaria(consulta):\n",
    "    termos = consulta.split()\n",
    "    buscas = PriorityQueue()\n",
    "    for termo in termos:\n",
    "        termo = termo.lower()\n",
    "        indice = indice_invertido(termo)\n",
    "        buscas.put((len(indice), indice.keys()))\n",
    "    if len(termos) == 1:\n",
    "        return buscas.get()[1]\n",
    "    while buscas.qsize()> 1:\n",
    "        smaller_search1 = set(buscas.get()[1])\n",
    "        smaller_search2 = set(buscas.get()[1])\n",
    "        partial_result = smaller_search1.intersection(smaller_search2)\n",
    "        size = len(partial_result)\n",
    "        buscas.put((size, list(partial_result)))\n",
    "    return buscas.get()[1][0:5]"
   ]
  },
  {
   "cell_type": "code",
   "execution_count": 133,
   "metadata": {},
   "outputs": [],
   "source": [
    "def intersect_tf(s1, s2):\n",
    "    result = {}\n",
    "    docs = set(s1.keys()).intersection(set(s2.keys()))\n",
    "    for key in docs:\n",
    "        result[key] = s1[key] + s2[key]\n",
    "    return result\n",
    "\n",
    "def tf_search(terms):\n",
    "    terms = terms.split()\n",
    "    searchs = PriorityQueue()\n",
    "    for term in terms:\n",
    "        term = term.lower()\n",
    "        result = indice_invertido(term)\n",
    "        searchs.put((len(result), result))\n",
    "    if len(terms) == 1:\n",
    "        return searchs.get()[1]\n",
    "    while searchs.qsize()> 1:\n",
    "        smaller_search1 = searchs.get()[1]\n",
    "        smaller_search2 = searchs.get()[1]\n",
    "        partial_result = intersect_tf(smaller_search1, smaller_search2)\n",
    "        size = len(partial_result)\n",
    "        searchs.put((size, partial_result))\n",
    "    sorted_result = sorted(searchs.get()[1].items(), key=lambda x: -x[1])\n",
    "    top5 = sorted_result[0:5]\n",
    "    top5 = [x[0] for x in top5]\n",
    "    return top5"
   ]
  },
  {
   "cell_type": "code",
   "execution_count": 134,
   "metadata": {},
   "outputs": [],
   "source": [
    "def intersect_tfidf(s1, s2):\n",
    "    result = {}\n",
    "    docs = set(s1.keys()).intersection(set(s2.keys()))\n",
    "    for key in docs:\n",
    "        result[key] = s1[key] * calcula_idf(s1) + s2[key] * calcula_idf(s2)\n",
    "    return result\n",
    "\n",
    "def tfidf(terms):\n",
    "    terms = terms.split()\n",
    "    searchs = PriorityQueue()\n",
    "    for term in terms:\n",
    "        term = term.lower()\n",
    "        result = indice_invertido(term)\n",
    "        searchs.put((len(result), result))\n",
    "    if len(terms) == 1:\n",
    "        return searchs.get()[1]\n",
    "    while searchs.qsize()> 1:\n",
    "        smaller_search1 = searchs.get()[1]\n",
    "        smaller_search2 = searchs.get()[1]\n",
    "        partial_result = intersect_tfidf(smaller_search1, smaller_search2)\n",
    "        size = len(partial_result)\n",
    "        searchs.put((size, partial_result))\n",
    "    sorted_result = sorted(searchs.get()[1].items(), key=lambda x: -x[1])\n",
    "    top5 = sorted_result[0:5]\n",
    "    top5 = [x[0] for x in top5]\n",
    "    return top5"
   ]
  },
  {
   "cell_type": "code",
   "execution_count": 178,
   "metadata": {},
   "outputs": [],
   "source": [
    "def intersect_bm25(s1, s2):\n",
    "    k = 2\n",
    "    result = {}\n",
    "    docs = set(s1.keys()).intersection(set(s2.keys()))\n",
    "    for key in docs:\n",
    "        result[key] = (calcula_idf(s1) * s1[key] * (k + 1) / (s1[key] + k)) + (calcula_idf(s2) * s2[key] * (k + 1) / (s2[key] + k))\n",
    "    return result\n",
    "\n",
    "def bm25(consulta):\n",
    "    terms = consulta.split()\n",
    "    searchs = PriorityQueue()\n",
    "    for term in terms:\n",
    "        term = term.lower()\n",
    "        result = indice_invertido(term)\n",
    "        searchs.put((len(result), result))\n",
    "    if len(terms) == 1:\n",
    "        return searchs.get()[1]\n",
    "    while searchs.qsize()> 1:\n",
    "        smaller_search1 = searchs.get()[1]\n",
    "        smaller_search2 = searchs.get()[1]\n",
    "        partial_result = intersect_bm25(smaller_search1, smaller_search2)\n",
    "        size = len(partial_result)\n",
    "        searchs.put((size, partial_result))\n",
    "    sorted_result = sorted(searchs.get()[1].items(), key=lambda x: -x[1])\n",
    "    top5 = sorted_result[0:5]\n",
    "    top5 = [x[0] for x in top5]\n",
    "    return top5"
   ]
  },
  {
   "cell_type": "code",
   "execution_count": 163,
   "metadata": {},
   "outputs": [],
   "source": [
    "assert binaria(\"segundo turno\") == [2048, 1, 2049, 2050, 4096]\n",
    "assert binaria(\"lava jato\") == [3, 13, 15, 27, 6177]\n",
    "assert binaria(\"projeto de lei\") == [3584, 6145, 8194, 8706, 6660]\n",
    "assert binaria(\"compra de voto\") == [7424, 2178, 6531, 5122, 2311]\n",
    "assert binaria(\"ministério público\") == [8194, 7, 4104, 8201, 4109]"
   ]
  },
  {
   "cell_type": "code",
   "execution_count": 164,
   "metadata": {},
   "outputs": [],
   "source": [
    "assert tf(\"segundo turno\") == [2744, 7, 2112, 7672, 2388]\n",
    "assert tf(\"lava jato\") == [163, 353, 2807, 127, 359]\n",
    "assert tf(\"projeto de lei\") == [7, 3942, 7017, 1250, 6942]\n",
    "assert tf(\"compra de voto\") == [3942, 7017, 5129, 2047, 748]\n",
    "assert tf(\"ministério público\") == [6798, 8018, 6244, 6965, 6550]"
   ]
  },
  {
   "cell_type": "code",
   "execution_count": 165,
   "metadata": {},
   "outputs": [
    {
     "ename": "AssertionError",
     "evalue": "",
     "output_type": "error",
     "traceback": [
      "\u001b[1;31m---------------------------------------------------------------------------\u001b[0m",
      "\u001b[1;31mAssertionError\u001b[0m                            Traceback (most recent call last)",
      "\u001b[1;32m<ipython-input-165-d53b6601d044>\u001b[0m in \u001b[0;36m<module>\u001b[1;34m()\u001b[0m\n\u001b[0;32m      1\u001b[0m \u001b[1;32massert\u001b[0m \u001b[0mtfidf\u001b[0m\u001b[1;33m(\u001b[0m\u001b[1;34m\"segundo turno\"\u001b[0m\u001b[1;33m)\u001b[0m \u001b[1;33m==\u001b[0m \u001b[1;33m[\u001b[0m\u001b[1;36m2744\u001b[0m\u001b[1;33m,\u001b[0m \u001b[1;36m2112\u001b[0m\u001b[1;33m,\u001b[0m \u001b[1;36m7672\u001b[0m\u001b[1;33m,\u001b[0m \u001b[1;36m1235\u001b[0m\u001b[1;33m,\u001b[0m \u001b[1;36m2388\u001b[0m\u001b[1;33m]\u001b[0m\u001b[1;33m\u001b[0m\u001b[0m\n\u001b[0;32m      2\u001b[0m \u001b[1;32massert\u001b[0m \u001b[0mtfidf\u001b[0m\u001b[1;33m(\u001b[0m\u001b[1;34m\"lava jato\"\u001b[0m\u001b[1;33m)\u001b[0m \u001b[1;33m==\u001b[0m \u001b[1;33m[\u001b[0m\u001b[1;36m163\u001b[0m\u001b[1;33m,\u001b[0m \u001b[1;36m353\u001b[0m\u001b[1;33m,\u001b[0m \u001b[1;36m2807\u001b[0m\u001b[1;33m,\u001b[0m \u001b[1;36m127\u001b[0m\u001b[1;33m,\u001b[0m \u001b[1;36m359\u001b[0m\u001b[1;33m]\u001b[0m\u001b[1;33m\u001b[0m\u001b[0m\n\u001b[1;32m----> 3\u001b[1;33m \u001b[1;32massert\u001b[0m \u001b[0mtfidf\u001b[0m\u001b[1;33m(\u001b[0m\u001b[1;34m\"projeto de lei\"\u001b[0m\u001b[1;33m)\u001b[0m \u001b[1;33m==\u001b[0m \u001b[1;33m[\u001b[0m\u001b[1;36m2232\u001b[0m\u001b[1;33m,\u001b[0m \u001b[1;36m6461\u001b[0m\u001b[1;33m,\u001b[0m \u001b[1;36m2853\u001b[0m\u001b[1;33m,\u001b[0m \u001b[1;36m3171\u001b[0m\u001b[1;33m,\u001b[0m \u001b[1;36m3942\u001b[0m\u001b[1;33m]\u001b[0m\u001b[1;33m\u001b[0m\u001b[0m\n\u001b[0m\u001b[0;32m      4\u001b[0m \u001b[1;32massert\u001b[0m \u001b[0mtfidf\u001b[0m\u001b[1;33m(\u001b[0m\u001b[1;34m\"compra de voto\"\u001b[0m\u001b[1;33m)\u001b[0m \u001b[1;33m==\u001b[0m \u001b[1;33m[\u001b[0m\u001b[1;36m7343\u001b[0m\u001b[1;33m,\u001b[0m \u001b[1;36m7293\u001b[0m\u001b[1;33m,\u001b[0m \u001b[1;36m6791\u001b[0m\u001b[1;33m,\u001b[0m \u001b[1;36m3942\u001b[0m\u001b[1;33m,\u001b[0m \u001b[1;36m2047\u001b[0m\u001b[1;33m]\u001b[0m\u001b[1;33m\u001b[0m\u001b[0m\n\u001b[0;32m      5\u001b[0m \u001b[1;32massert\u001b[0m \u001b[0mtfidf\u001b[0m\u001b[1;33m(\u001b[0m\u001b[1;34m\"ministério público\"\u001b[0m\u001b[1;33m)\u001b[0m \u001b[1;33m==\u001b[0m \u001b[1;33m[\u001b[0m\u001b[1;36m6798\u001b[0m\u001b[1;33m,\u001b[0m \u001b[1;36m8018\u001b[0m\u001b[1;33m,\u001b[0m \u001b[1;36m6244\u001b[0m\u001b[1;33m,\u001b[0m \u001b[1;36m6965\u001b[0m\u001b[1;33m,\u001b[0m \u001b[1;36m6550\u001b[0m\u001b[1;33m]\u001b[0m\u001b[1;33m\u001b[0m\u001b[0m\n",
      "\u001b[1;31mAssertionError\u001b[0m: "
     ]
    }
   ],
   "source": [
    "assert tfidf(\"segundo turno\") == [2744, 2112, 7672, 1235, 2388]\n",
    "assert tfidf(\"lava jato\") == [163, 353, 2807, 127, 359]\n",
    "assert tfidf(\"projeto de lei\") == [2232, 6461, 2853, 3171, 3942]\n",
    "assert tfidf(\"compra de voto\") == [7343, 7293, 6791, 3942, 2047]\n",
    "assert tfidf(\"ministério público\") == [6798, 8018, 6244, 6965, 6550]"
   ]
  },
  {
   "cell_type": "code",
   "execution_count": 179,
   "metadata": {},
   "outputs": [
    {
     "ename": "AssertionError",
     "evalue": "",
     "output_type": "error",
     "traceback": [
      "\u001b[1;31m---------------------------------------------------------------------------\u001b[0m",
      "\u001b[1;31mAssertionError\u001b[0m                            Traceback (most recent call last)",
      "\u001b[1;32m<ipython-input-179-4adf103e12d7>\u001b[0m in \u001b[0;36m<module>\u001b[1;34m()\u001b[0m\n\u001b[0;32m      1\u001b[0m \u001b[1;32massert\u001b[0m \u001b[0mbm25\u001b[0m\u001b[1;33m(\u001b[0m\u001b[1;34m\"segundo turno\"\u001b[0m\u001b[1;33m)\u001b[0m \u001b[1;33m==\u001b[0m \u001b[1;33m[\u001b[0m\u001b[1;36m2744\u001b[0m\u001b[1;33m,\u001b[0m \u001b[1;36m2112\u001b[0m\u001b[1;33m,\u001b[0m \u001b[1;36m7672\u001b[0m\u001b[1;33m,\u001b[0m \u001b[1;36m2388\u001b[0m\u001b[1;33m,\u001b[0m \u001b[1;36m2178\u001b[0m\u001b[1;33m]\u001b[0m\u001b[1;33m\u001b[0m\u001b[0m\n\u001b[0;32m      2\u001b[0m \u001b[1;32massert\u001b[0m \u001b[0mbm25\u001b[0m\u001b[1;33m(\u001b[0m\u001b[1;34m\"lava jato\"\u001b[0m\u001b[1;33m)\u001b[0m \u001b[1;33m==\u001b[0m \u001b[1;33m[\u001b[0m\u001b[1;36m163\u001b[0m\u001b[1;33m,\u001b[0m \u001b[1;36m353\u001b[0m\u001b[1;33m,\u001b[0m \u001b[1;36m2807\u001b[0m\u001b[1;33m,\u001b[0m \u001b[1;36m127\u001b[0m\u001b[1;33m,\u001b[0m \u001b[1;36m359\u001b[0m\u001b[1;33m]\u001b[0m\u001b[1;33m\u001b[0m\u001b[0m\n\u001b[1;32m----> 3\u001b[1;33m \u001b[1;32massert\u001b[0m \u001b[0mbm25\u001b[0m\u001b[1;33m(\u001b[0m\u001b[1;34m\"projeto de lei\"\u001b[0m\u001b[1;33m)\u001b[0m \u001b[1;33m==\u001b[0m \u001b[1;33m[\u001b[0m\u001b[1;36m2232\u001b[0m\u001b[1;33m,\u001b[0m \u001b[1;36m6461\u001b[0m\u001b[1;33m,\u001b[0m \u001b[1;36m3171\u001b[0m\u001b[1;33m,\u001b[0m \u001b[1;36m2853\u001b[0m\u001b[1;33m,\u001b[0m \u001b[1;36m3170\u001b[0m\u001b[1;33m]\u001b[0m\u001b[1;33m\u001b[0m\u001b[0m\n\u001b[0m\u001b[0;32m      4\u001b[0m \u001b[1;32massert\u001b[0m \u001b[0mbm25\u001b[0m\u001b[1;33m(\u001b[0m\u001b[1;34m\"compra de voto\"\u001b[0m\u001b[1;33m)\u001b[0m \u001b[1;33m==\u001b[0m \u001b[1;33m[\u001b[0m\u001b[1;36m7343\u001b[0m\u001b[1;33m,\u001b[0m \u001b[1;36m7293\u001b[0m\u001b[1;33m,\u001b[0m \u001b[1;36m6791\u001b[0m\u001b[1;33m,\u001b[0m \u001b[1;36m7329\u001b[0m\u001b[1;33m,\u001b[0m \u001b[1;36m8615\u001b[0m\u001b[1;33m]\u001b[0m\u001b[1;33m\u001b[0m\u001b[0m\n\u001b[0;32m      5\u001b[0m \u001b[1;32massert\u001b[0m \u001b[0mbm25\u001b[0m\u001b[1;33m(\u001b[0m\u001b[1;34m\"ministério público\"\u001b[0m\u001b[1;33m)\u001b[0m \u001b[1;33m==\u001b[0m \u001b[1;33m[\u001b[0m\u001b[1;36m6798\u001b[0m\u001b[1;33m,\u001b[0m \u001b[1;36m8018\u001b[0m\u001b[1;33m,\u001b[0m \u001b[1;36m6244\u001b[0m\u001b[1;33m,\u001b[0m \u001b[1;36m6965\u001b[0m\u001b[1;33m,\u001b[0m \u001b[1;36m6550\u001b[0m\u001b[1;33m]\u001b[0m\u001b[1;33m\u001b[0m\u001b[0m\n",
      "\u001b[1;31mAssertionError\u001b[0m: "
     ]
    }
   ],
   "source": [
    "assert bm25(\"segundo turno\") == [2744, 2112, 7672, 2388, 2178]\n",
    "assert bm25(\"lava jato\") == [163, 353, 2807, 127, 359]\n",
    "assert bm25(\"projeto de lei\") == [2232, 6461, 3171, 2853, 3170]\n",
    "assert bm25(\"compra de voto\") == [7343, 7293, 6791, 7329, 8615]\n",
    "assert bm25(\"ministério público\") == [6798, 8018, 6244, 6965, 6550]"
   ]
  },
  {
   "cell_type": "code",
   "execution_count": 203,
   "metadata": {},
   "outputs": [
    {
     "data": {
      "text/html": [
       "<div>\n",
       "<style scoped>\n",
       "    .dataframe tbody tr th:only-of-type {\n",
       "        vertical-align: middle;\n",
       "    }\n",
       "\n",
       "    .dataframe tbody tr th {\n",
       "        vertical-align: top;\n",
       "    }\n",
       "\n",
       "    .dataframe thead th {\n",
       "        text-align: right;\n",
       "    }\n",
       "</style>\n",
       "<table border=\"1\" class=\"dataframe\">\n",
       "  <thead>\n",
       "    <tr style=\"text-align: right;\">\n",
       "      <th></th>\n",
       "      <th>str_busca</th>\n",
       "      <th>busca_binaria</th>\n",
       "      <th>tf</th>\n",
       "      <th>tfidf</th>\n",
       "      <th>bm25</th>\n",
       "    </tr>\n",
       "  </thead>\n",
       "  <tbody>\n",
       "    <tr>\n",
       "      <th>0</th>\n",
       "      <td>segundo turno</td>\n",
       "      <td>[2048, 1, 2049, 2050, 4096]</td>\n",
       "      <td>[2744, 7, 2112, 7672, 2388]</td>\n",
       "      <td>[2744, 2112, 7672, 1235, 2388]</td>\n",
       "      <td>[2744, 2112, 7672, 2388, 2178]</td>\n",
       "    </tr>\n",
       "    <tr>\n",
       "      <th>1</th>\n",
       "      <td>lava jato</td>\n",
       "      <td>[3, 13, 15, 27, 6177]</td>\n",
       "      <td>[163, 353, 2807, 127, 359]</td>\n",
       "      <td>[163, 353, 2807, 127, 359]</td>\n",
       "      <td>[163, 353, 2807, 127, 359]</td>\n",
       "    </tr>\n",
       "    <tr>\n",
       "      <th>2</th>\n",
       "      <td>projeto de lei</td>\n",
       "      <td>[3584, 6145, 8194, 8706, 6660]</td>\n",
       "      <td>[7, 3942, 7017, 1250, 6942]</td>\n",
       "      <td>[7017, 2853, 2232, 3171, 6461]</td>\n",
       "      <td>[2853, 3171, 2232, 6699, 6461]</td>\n",
       "    </tr>\n",
       "    <tr>\n",
       "      <th>3</th>\n",
       "      <td>compra de voto</td>\n",
       "      <td>[7424, 2178, 6531, 5122, 2311]</td>\n",
       "      <td>[3942, 7017, 5129, 2047, 748]</td>\n",
       "      <td>[7343, 2047, 7293, 6791, 7017]</td>\n",
       "      <td>[2200, 2047, 7343, 2178, 7293]</td>\n",
       "    </tr>\n",
       "    <tr>\n",
       "      <th>4</th>\n",
       "      <td>minstério público</td>\n",
       "      <td>[8194, 7, 4104, 8201, 4109]</td>\n",
       "      <td>[6798, 8018, 6244, 6965, 6550]</td>\n",
       "      <td>[6798, 8018, 6244, 6965, 6550]</td>\n",
       "      <td>[6798, 8018, 6244, 6965, 6550]</td>\n",
       "    </tr>\n",
       "  </tbody>\n",
       "</table>\n",
       "</div>"
      ],
      "text/plain": [
       "           str_busca                   busca_binaria  \\\n",
       "0      segundo turno     [2048, 1, 2049, 2050, 4096]   \n",
       "1          lava jato           [3, 13, 15, 27, 6177]   \n",
       "2     projeto de lei  [3584, 6145, 8194, 8706, 6660]   \n",
       "3     compra de voto  [7424, 2178, 6531, 5122, 2311]   \n",
       "4  minstério público     [8194, 7, 4104, 8201, 4109]   \n",
       "\n",
       "                               tf                           tfidf  \\\n",
       "0     [2744, 7, 2112, 7672, 2388]  [2744, 2112, 7672, 1235, 2388]   \n",
       "1      [163, 353, 2807, 127, 359]      [163, 353, 2807, 127, 359]   \n",
       "2     [7, 3942, 7017, 1250, 6942]  [7017, 2853, 2232, 3171, 6461]   \n",
       "3   [3942, 7017, 5129, 2047, 748]  [7343, 2047, 7293, 6791, 7017]   \n",
       "4  [6798, 8018, 6244, 6965, 6550]  [6798, 8018, 6244, 6965, 6550]   \n",
       "\n",
       "                             bm25  \n",
       "0  [2744, 2112, 7672, 2388, 2178]  \n",
       "1      [163, 353, 2807, 127, 359]  \n",
       "2  [2853, 3171, 2232, 6699, 6461]  \n",
       "3  [2200, 2047, 7343, 2178, 7293]  \n",
       "4  [6798, 8018, 6244, 6965, 6550]  "
      ]
     },
     "execution_count": 203,
     "metadata": {},
     "output_type": "execute_result"
    }
   ],
   "source": [
    "d = {'str_busca': [\"segundo turno\", \"lava jato\", \"projeto de lei\", \"compra de voto\", \"minstério público\"],\n",
    "     'busca_binaria': [str(binaria(\"segundo turno\")), str(binaria(\"lava jato\")), str(binaria(\"projeto de lei\")), str(binaria(\"compra de voto\")), str(binaria(\"ministério público\"))], \n",
    "     'tf': [str(tf(\"segundo turno\")), str(tf(\"lava jato\")), str(tf(\"projeto de lei\")), str(tf(\"compra de voto\")), str(tf(\"ministério público\"))],\n",
    "     'tfidf': [str(tfidf(\"segundo turno\")), str(tfidf(\"lava jato\")), str(tfidf(\"projeto de lei\")), str(tfidf(\"compra de voto\")), str(tfidf(\"ministério público\"))],\n",
    "     'bm25': [str(bm25(\"segundo turno\")), str(bm25(\"lava jato\")), str(bm25(\"projeto de lei\")), str(bm25(\"compra de voto\")), str(bm25(\"ministério público\"))]}\n",
    "resposta = pd.DataFrame(data=d)\n",
    "resposta = resposta[['str_busca', 'busca_binaria', 'tf', 'tfidf', 'bm25']]\n",
    "resposta"
   ]
  },
  {
   "cell_type": "code",
   "execution_count": 208,
   "metadata": {},
   "outputs": [],
   "source": [
    "def apk(actual, predicted, k):\n",
    "    \"\"\"\n",
    "    Computes the average precision at k.\n",
    "    This function computes the average prescision at k between two lists of\n",
    "    items.\n",
    "    Parameters\n",
    "    ----------\n",
    "    actual : list\n",
    "             A list of elements that are to be predicted (order doesn't matter)\n",
    "    predicted : list\n",
    "                A list of predicted elements (order does matter)\n",
    "    k : int, optional\n",
    "        The maximum number of predicted elements\n",
    "    Returns\n",
    "    -------\n",
    "    score : double\n",
    "            The average precision at k over the input lists\n",
    "    \"\"\"\n",
    "    if len(predicted)>k:\n",
    "        predicted = predicted[:k]\n",
    "\n",
    "    score = 0.0\n",
    "    num_hits = 0.0\n",
    "\n",
    "    for i,p in enumerate(predicted):\n",
    "        if p in actual and p not in predicted[:i]:\n",
    "            num_hits += 1.0\n",
    "            score += num_hits / (i+1.0)\n",
    "\n",
    "    if not actual:\n",
    "        return 0.0\n",
    "\n",
    "    return score / min(len(actual), k)\n",
    "\n",
    "def mapk(actual, predicted, k):\n",
    "    \"\"\"\n",
    "    Computes the mean average precision at k.\n",
    "    This function computes the mean average prescision at k between two lists\n",
    "    of lists of items.\n",
    "    Parameters\n",
    "    ----------\n",
    "    actual : list\n",
    "             A list of lists of elements that are to be predicted \n",
    "             (order doesn't matter in the lists)\n",
    "    predicted : list\n",
    "                A list of lists of predicted elements\n",
    "                (order matters in the lists)\n",
    "    k : int, optional\n",
    "        The maximum number of predicted elements\n",
    "    Returns\n",
    "    -------\n",
    "    score : double\n",
    "            The mean average precision at k over the input lists\n",
    "    \"\"\"\n",
    "    return np.mean([apk(a,p,k) for a,p in zip(actual, predicted)])"
   ]
  },
  {
   "cell_type": "code",
   "execution_count": 211,
   "metadata": {},
   "outputs": [
    {
     "name": "stdout",
     "output_type": "stream",
     "text": [
      "0.96\n",
      "0.96\n",
      "0.8300000000000001\n",
      "0.8399999999999999\n",
      "0.8719999999999999\n",
      "0.748\n",
      "0.7340000000000001\n",
      "0.7739999999999999\n"
     ]
    }
   ],
   "source": [
    "print(mapk(gabarito.busca_binaria, resposta.busca_binaria, k=5))\n",
    "print(mapk(gabarito.tf, resposta.tf, k=5))\n",
    "print(mapk(gabarito.tfidf, resposta.tfidf, k=5))\n",
    "print(mapk(gabarito.bm25, resposta.bm25, k=5))\n",
    "\n",
    "print(mapk(gabarito.google, resposta.busca_binaria, k=5))\n",
    "print(mapk(gabarito.google, resposta.tf, k=5))\n",
    "print(mapk(gabarito.google, resposta.tfidf, k=5))\n",
    "print(mapk(gabarito.google, resposta.bm25, k=5))"
   ]
  },
  {
   "cell_type": "code",
   "execution_count": null,
   "metadata": {},
   "outputs": [],
   "source": []
  }
 ],
 "metadata": {
  "kernelspec": {
   "display_name": "Python 3",
   "language": "python",
   "name": "python3"
  },
  "language_info": {
   "codemirror_mode": {
    "name": "ipython",
    "version": 3
   },
   "file_extension": ".py",
   "mimetype": "text/x-python",
   "name": "python",
   "nbconvert_exporter": "python",
   "pygments_lexer": "ipython3",
   "version": "3.6.4"
  }
 },
 "nbformat": 4,
 "nbformat_minor": 2
}
