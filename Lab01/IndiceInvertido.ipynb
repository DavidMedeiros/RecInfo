{
 "cells": [
  {
   "cell_type": "code",
   "execution_count": 1,
   "metadata": {
    "collapsed": true
   },
   "outputs": [],
   "source": [
    "import pandas as pd\n",
    "import nltk"
   ]
  },
  {
   "cell_type": "code",
   "execution_count": 2,
   "metadata": {
    "collapsed": true
   },
   "outputs": [],
   "source": [
    "#Lê e separa as palavras de um texto de determidada notícia, para adicionar ou atualizar o índice 'palavra' do dicionário\n",
    "def cataloga_palavras(dicionario, texto, idNoticia):\n",
    "    palavras = nltk.word_tokenize(texto)\n",
    "    #mesmo que uma palavra apareça várias vezes no texto,só é necessário adicionar o id dessa notícia uma vez, por isso é utilizado set\n",
    "    palavras = set(palavras)\n",
    "    for palavra in palavras:\n",
    "        palavra = palavra.lower()   #o algoritmo não é case-sensitive\n",
    "        if palavra in dicionario:\n",
    "            dicionario[palavra].append(idNoticia)\n",
    "        else:\n",
    "            dicionario[palavra] = [idNoticia]"
   ]
  },
  {
   "cell_type": "code",
   "execution_count": 3,
   "metadata": {},
   "outputs": [],
   "source": [
    "#Retorna os ids de notícias que possuem aquela palavra\n",
    "def indice_invertido(palavra):\n",
    "    return dicionario[palavra]"
   ]
  },
  {
   "cell_type": "code",
   "execution_count": null,
   "metadata": {},
   "outputs": [],
   "source": [
    "#Faz a busca de um ou dois termos, com os operadores booleanos AND e OR\n",
    "def search(termos):\n",
    "    termos = termos.split()\n",
    "    if len(termos) == 1:   #Caso haja apenas um termo na busca\n",
    "        return indice_invertido(termos[0].lower())\n",
    "    indice1 = indice_invertido(termos[0].lower())\n",
    "    indice2 = indice_invertido(termos[2].lower())\n",
    "    if termos[1] == \"OR\":\n",
    "        return set(indice1 + indice2)   #OR consiste na junção dos resultados, desconsiderando as repetições\n",
    "    else:\n",
    "        retorno = []\n",
    "        for i in indice1:\n",
    "            for j in indice2:\n",
    "                if i == j:      #AND deve retornar apenas as notícias em que os dois termos estão presentes\n",
    "                    retorno.append(j)\n",
    "        return set(retorno)"
   ]
  },
  {
   "cell_type": "code",
   "execution_count": null,
   "metadata": {},
   "outputs": [],
   "source": [
    "tabela = pd.read_csv('noticias_estadao.csv')\n",
    "tabela.set_index(\"idNoticia\", inplace=True)\n",
    "\n",
    "dicionario = {}\n",
    "\n",
    "#Cataloga as palavras de todas as notícias da tabela\n",
    "for index, row in tabela.iterrows():\n",
    "    cataloga_palavras(dicionario, row['conteudo'], index)\n",
    "    cataloga_palavras(dicionario, row['titulo'], index)"
   ]
  },
  {
   "cell_type": "code",
   "execution_count": null,
   "metadata": {
    "collapsed": true
   },
   "outputs": [],
   "source": [
    "assert len(search(\"Campina AND Grande\")) == 12\n",
    "assert len(search(\"debate OR presidencial\")) == 1770\n",
    "assert len(search(\"debate AND presidencial\")) == 201\n",
    "assert len(search(\"presidenciáveis OR corruptos\")) == 164\n",
    "assert len(search(\"presidenciáveis AND corruptos\")) == 0\n",
    "assert len(search(\"Belo OR Horizonte\")) == 331\n",
    "assert len(search(\"Belo AND Horizonte\")) == 242"
   ]
  },
  {
   "cell_type": "code",
   "execution_count": null,
   "metadata": {
    "collapsed": true
   },
   "outputs": [],
   "source": []
  },
  {
   "cell_type": "code",
   "execution_count": null,
   "metadata": {
    "collapsed": true
   },
   "outputs": [],
   "source": []
  }
 ],
 "metadata": {
  "kernelspec": {
   "display_name": "Python 3",
   "language": "python",
   "name": "python3"
  },
  "language_info": {
   "codemirror_mode": {
    "name": "ipython",
    "version": 3
   },
   "file_extension": ".py",
   "mimetype": "text/x-python",
   "name": "python",
   "nbconvert_exporter": "python",
   "pygments_lexer": "ipython3",
   "version": "3.6.2"
  }
 },
 "nbformat": 4,
 "nbformat_minor": 2
}
